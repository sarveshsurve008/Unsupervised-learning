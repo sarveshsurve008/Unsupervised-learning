{
 "cells": [
  {
   "cell_type": "markdown",
   "id": "5a35e9c1",
   "metadata": {},
   "source": [
    "# Content\n",
    "**We will analyze ten economic and social indicators collected for each province. Because these indicators are highly correlated, we will use principal component analysis (PCA) to reduce redundancies and highlight patterns that are not apparent in the raw data. After visualizing the patterns, we will use k-means clustering to partition the provinces into groups with similar development levels.**\n",
    "\n",
    "**These results can be used to plan public policy by helping allocate resources to develop infrastructure, education, and welfare programs**\n"
   ]
  },
  {
   "cell_type": "code",
   "execution_count": 14,
   "id": "05a25084",
   "metadata": {},
   "outputs": [],
   "source": [
    "import pandas as pd \n",
    "import numpy as np\n",
    "from matplotlib import pyplot as plt\n",
    "import seaborn as sn\n",
    "from sklearn.preprocessing import StandardScaler\n",
    "from sklearn.decomposition import PCA\n",
    "from sklearn.preprocessing import scale \n",
    "#K Means Clustering\n",
    "from matplotlib import pyplot as plt\n",
    "from sklearn.cluster import KMeans\n",
    "from yellowbrick.cluster import KElbowVisualizer\n",
    "import warnings\n",
    "warnings.filterwarnings('ignore')"
   ]
  },
  {
   "cell_type": "markdown",
   "id": "845d9df9",
   "metadata": {},
   "source": [
    "# Importing data"
   ]
  },
  {
   "cell_type": "code",
   "execution_count": 4,
   "id": "7fda3691",
   "metadata": {},
   "outputs": [],
   "source": [
    "df_Arg = pd.read_csv(\"C:\\\\Users\\\\SARVESH SURVE\\\\OneDrive\\\\Desktop\\\\data\\\\Kaggle data set\\\\argentina.csv\")"
   ]
  },
  {
   "cell_type": "code",
   "execution_count": 5,
   "id": "a33f5b75",
   "metadata": {},
   "outputs": [
    {
     "data": {
      "text/plain": [
       "Index(['province', 'gdp', 'illiteracy', 'poverty', 'deficient_infra',\n",
       "       'school_dropout', 'no_healthcare', 'birth_mortal', 'pop',\n",
       "       'movie_theatres_per_cap', 'doctors_per_cap'],\n",
       "      dtype='object')"
      ]
     },
     "execution_count": 5,
     "metadata": {},
     "output_type": "execute_result"
    }
   ],
   "source": [
    "df_Arg.keys()"
   ]
  },
  {
   "cell_type": "code",
   "execution_count": 6,
   "id": "ac2e3729",
   "metadata": {},
   "outputs": [
    {
     "data": {
      "text/plain": [
       "(22, 11)"
      ]
     },
     "execution_count": 6,
     "metadata": {},
     "output_type": "execute_result"
    }
   ],
   "source": [
    "df_Arg.shape"
   ]
  },
  {
   "cell_type": "code",
   "execution_count": 7,
   "id": "2401d2f8",
   "metadata": {},
   "outputs": [
    {
     "data": {
      "text/html": [
       "<div>\n",
       "<style scoped>\n",
       "    .dataframe tbody tr th:only-of-type {\n",
       "        vertical-align: middle;\n",
       "    }\n",
       "\n",
       "    .dataframe tbody tr th {\n",
       "        vertical-align: top;\n",
       "    }\n",
       "\n",
       "    .dataframe thead th {\n",
       "        text-align: right;\n",
       "    }\n",
       "</style>\n",
       "<table border=\"1\" class=\"dataframe\">\n",
       "  <thead>\n",
       "    <tr style=\"text-align: right;\">\n",
       "      <th></th>\n",
       "      <th>province</th>\n",
       "      <th>gdp</th>\n",
       "      <th>illiteracy</th>\n",
       "      <th>poverty</th>\n",
       "      <th>deficient_infra</th>\n",
       "      <th>school_dropout</th>\n",
       "      <th>no_healthcare</th>\n",
       "      <th>birth_mortal</th>\n",
       "      <th>pop</th>\n",
       "      <th>movie_theatres_per_cap</th>\n",
       "      <th>doctors_per_cap</th>\n",
       "    </tr>\n",
       "  </thead>\n",
       "  <tbody>\n",
       "    <tr>\n",
       "      <th>0</th>\n",
       "      <td>Buenos Aires</td>\n",
       "      <td>2.926899e+08</td>\n",
       "      <td>1.38324</td>\n",
       "      <td>8.167798</td>\n",
       "      <td>5.511856</td>\n",
       "      <td>0.766168</td>\n",
       "      <td>48.7947</td>\n",
       "      <td>4.4</td>\n",
       "      <td>15625084</td>\n",
       "      <td>0.000006</td>\n",
       "      <td>0.004836</td>\n",
       "    </tr>\n",
       "    <tr>\n",
       "      <th>1</th>\n",
       "      <td>Catamarca</td>\n",
       "      <td>6.150949e+06</td>\n",
       "      <td>2.34414</td>\n",
       "      <td>9.234095</td>\n",
       "      <td>10.464484</td>\n",
       "      <td>0.951963</td>\n",
       "      <td>45.0456</td>\n",
       "      <td>1.5</td>\n",
       "      <td>367828</td>\n",
       "      <td>0.000005</td>\n",
       "      <td>0.004502</td>\n",
       "    </tr>\n",
       "    <tr>\n",
       "      <th>2</th>\n",
       "      <td>Córdoba</td>\n",
       "      <td>6.936374e+07</td>\n",
       "      <td>2.71414</td>\n",
       "      <td>5.382380</td>\n",
       "      <td>10.436086</td>\n",
       "      <td>1.035056</td>\n",
       "      <td>45.7640</td>\n",
       "      <td>4.8</td>\n",
       "      <td>3308876</td>\n",
       "      <td>0.000011</td>\n",
       "      <td>0.010175</td>\n",
       "    </tr>\n",
       "    <tr>\n",
       "      <th>3</th>\n",
       "      <td>Corrientes</td>\n",
       "      <td>7.968013e+06</td>\n",
       "      <td>5.60242</td>\n",
       "      <td>12.747191</td>\n",
       "      <td>17.438858</td>\n",
       "      <td>3.864265</td>\n",
       "      <td>62.1103</td>\n",
       "      <td>5.9</td>\n",
       "      <td>992595</td>\n",
       "      <td>0.000004</td>\n",
       "      <td>0.004495</td>\n",
       "    </tr>\n",
       "    <tr>\n",
       "      <th>4</th>\n",
       "      <td>Chaco</td>\n",
       "      <td>9.832643e+06</td>\n",
       "      <td>7.51758</td>\n",
       "      <td>15.862619</td>\n",
       "      <td>31.479527</td>\n",
       "      <td>2.577462</td>\n",
       "      <td>65.5104</td>\n",
       "      <td>7.5</td>\n",
       "      <td>1055259</td>\n",
       "      <td>0.000003</td>\n",
       "      <td>0.003605</td>\n",
       "    </tr>\n",
       "  </tbody>\n",
       "</table>\n",
       "</div>"
      ],
      "text/plain": [
       "       province           gdp  illiteracy    poverty  deficient_infra  \\\n",
       "0  Buenos Aires  2.926899e+08     1.38324   8.167798         5.511856   \n",
       "1     Catamarca  6.150949e+06     2.34414   9.234095        10.464484   \n",
       "2       Córdoba  6.936374e+07     2.71414   5.382380        10.436086   \n",
       "3    Corrientes  7.968013e+06     5.60242  12.747191        17.438858   \n",
       "4         Chaco  9.832643e+06     7.51758  15.862619        31.479527   \n",
       "\n",
       "   school_dropout  no_healthcare  birth_mortal       pop  \\\n",
       "0        0.766168        48.7947           4.4  15625084   \n",
       "1        0.951963        45.0456           1.5    367828   \n",
       "2        1.035056        45.7640           4.8   3308876   \n",
       "3        3.864265        62.1103           5.9    992595   \n",
       "4        2.577462        65.5104           7.5   1055259   \n",
       "\n",
       "   movie_theatres_per_cap  doctors_per_cap  \n",
       "0                0.000006         0.004836  \n",
       "1                0.000005         0.004502  \n",
       "2                0.000011         0.010175  \n",
       "3                0.000004         0.004495  \n",
       "4                0.000003         0.003605  "
      ]
     },
     "execution_count": 7,
     "metadata": {},
     "output_type": "execute_result"
    }
   ],
   "source": [
    "df_Arg.head()"
   ]
  },
  {
   "cell_type": "code",
   "execution_count": 8,
   "id": "9cb1f629",
   "metadata": {},
   "outputs": [
    {
     "name": "stdout",
     "output_type": "stream",
     "text": [
      "<class 'pandas.core.frame.DataFrame'>\n",
      "RangeIndex: 22 entries, 0 to 21\n",
      "Data columns (total 11 columns):\n",
      " #   Column                  Non-Null Count  Dtype  \n",
      "---  ------                  --------------  -----  \n",
      " 0   province                22 non-null     object \n",
      " 1   gdp                     22 non-null     float64\n",
      " 2   illiteracy              22 non-null     float64\n",
      " 3   poverty                 22 non-null     float64\n",
      " 4   deficient_infra         22 non-null     float64\n",
      " 5   school_dropout          22 non-null     float64\n",
      " 6   no_healthcare           22 non-null     float64\n",
      " 7   birth_mortal            22 non-null     float64\n",
      " 8   pop                     22 non-null     int64  \n",
      " 9   movie_theatres_per_cap  22 non-null     float64\n",
      " 10  doctors_per_cap         22 non-null     float64\n",
      "dtypes: float64(9), int64(1), object(1)\n",
      "memory usage: 2.0+ KB\n"
     ]
    }
   ],
   "source": [
    "df_Arg.info()"
   ]
  },
  {
   "cell_type": "code",
   "execution_count": 9,
   "id": "919bf42b",
   "metadata": {},
   "outputs": [
    {
     "data": {
      "text/html": [
       "<div>\n",
       "<style scoped>\n",
       "    .dataframe tbody tr th:only-of-type {\n",
       "        vertical-align: middle;\n",
       "    }\n",
       "\n",
       "    .dataframe tbody tr th {\n",
       "        vertical-align: top;\n",
       "    }\n",
       "\n",
       "    .dataframe thead th {\n",
       "        text-align: right;\n",
       "    }\n",
       "</style>\n",
       "<table border=\"1\" class=\"dataframe\">\n",
       "  <thead>\n",
       "    <tr style=\"text-align: right;\">\n",
       "      <th></th>\n",
       "      <th>count</th>\n",
       "      <th>mean</th>\n",
       "      <th>std</th>\n",
       "      <th>min</th>\n",
       "      <th>25%</th>\n",
       "      <th>50%</th>\n",
       "      <th>75%</th>\n",
       "      <th>max</th>\n",
       "    </tr>\n",
       "  </thead>\n",
       "  <tbody>\n",
       "    <tr>\n",
       "      <th>gdp</th>\n",
       "      <td>22.0</td>\n",
       "      <td>3.055703e+07</td>\n",
       "      <td>6.183100e+07</td>\n",
       "      <td>3.807057e+06</td>\n",
       "      <td>8.041587e+06</td>\n",
       "      <td>1.096416e+07</td>\n",
       "      <td>1.999452e+07</td>\n",
       "      <td>2.926899e+08</td>\n",
       "    </tr>\n",
       "    <tr>\n",
       "      <th>illiteracy</th>\n",
       "      <td>22.0</td>\n",
       "      <td>3.225541e+00</td>\n",
       "      <td>1.851496e+00</td>\n",
       "      <td>7.914850e-01</td>\n",
       "      <td>1.989810e+00</td>\n",
       "      <td>2.743675e+00</td>\n",
       "      <td>3.686190e+00</td>\n",
       "      <td>7.517580e+00</td>\n",
       "    </tr>\n",
       "    <tr>\n",
       "      <th>poverty</th>\n",
       "      <td>22.0</td>\n",
       "      <td>9.925625e+00</td>\n",
       "      <td>3.779530e+00</td>\n",
       "      <td>3.398774e+00</td>\n",
       "      <td>7.472754e+00</td>\n",
       "      <td>9.142440e+00</td>\n",
       "      <td>1.250014e+01</td>\n",
       "      <td>1.703558e+01</td>\n",
       "    </tr>\n",
       "    <tr>\n",
       "      <th>deficient_infra</th>\n",
       "      <td>22.0</td>\n",
       "      <td>1.267730e+01</td>\n",
       "      <td>7.216860e+00</td>\n",
       "      <td>3.839852e+00</td>\n",
       "      <td>7.569677e+00</td>\n",
       "      <td>1.086588e+01</td>\n",
       "      <td>1.610065e+01</td>\n",
       "      <td>3.147953e+01</td>\n",
       "    </tr>\n",
       "    <tr>\n",
       "      <th>school_dropout</th>\n",
       "      <td>22.0</td>\n",
       "      <td>1.724866e+00</td>\n",
       "      <td>1.152438e+00</td>\n",
       "      <td>2.040934e-01</td>\n",
       "      <td>8.126169e-01</td>\n",
       "      <td>1.437767e+00</td>\n",
       "      <td>2.514496e+00</td>\n",
       "      <td>3.864265e+00</td>\n",
       "    </tr>\n",
       "    <tr>\n",
       "      <th>no_healthcare</th>\n",
       "      <td>22.0</td>\n",
       "      <td>5.076884e+01</td>\n",
       "      <td>9.181037e+00</td>\n",
       "      <td>2.923210e+01</td>\n",
       "      <td>4.554830e+01</td>\n",
       "      <td>4.937050e+01</td>\n",
       "      <td>5.691580e+01</td>\n",
       "      <td>6.581260e+01</td>\n",
       "    </tr>\n",
       "    <tr>\n",
       "      <th>birth_mortal</th>\n",
       "      <td>22.0</td>\n",
       "      <td>4.986364e+00</td>\n",
       "      <td>3.498339e+00</td>\n",
       "      <td>8.000000e-01</td>\n",
       "      <td>3.025000e+00</td>\n",
       "      <td>4.000000e+00</td>\n",
       "      <td>5.875000e+00</td>\n",
       "      <td>1.620000e+01</td>\n",
       "    </tr>\n",
       "    <tr>\n",
       "      <th>pop</th>\n",
       "      <td>22.0</td>\n",
       "      <td>1.686352e+06</td>\n",
       "      <td>3.219828e+06</td>\n",
       "      <td>2.739640e+05</td>\n",
       "      <td>5.143715e+05</td>\n",
       "      <td>7.775305e+05</td>\n",
       "      <td>1.230606e+06</td>\n",
       "      <td>1.562508e+07</td>\n",
       "    </tr>\n",
       "    <tr>\n",
       "      <th>movie_theatres_per_cap</th>\n",
       "      <td>22.0</td>\n",
       "      <td>7.143952e-06</td>\n",
       "      <td>4.373885e-06</td>\n",
       "      <td>1.815553e-06</td>\n",
       "      <td>4.051661e-06</td>\n",
       "      <td>5.768349e-06</td>\n",
       "      <td>9.313676e-06</td>\n",
       "      <td>1.881167e-05</td>\n",
       "    </tr>\n",
       "    <tr>\n",
       "      <th>doctors_per_cap</th>\n",
       "      <td>22.0</td>\n",
       "      <td>4.893720e-03</td>\n",
       "      <td>1.522047e-03</td>\n",
       "      <td>2.821491e-03</td>\n",
       "      <td>4.061011e-03</td>\n",
       "      <td>4.757224e-03</td>\n",
       "      <td>5.334040e-03</td>\n",
       "      <td>1.017536e-02</td>\n",
       "    </tr>\n",
       "  </tbody>\n",
       "</table>\n",
       "</div>"
      ],
      "text/plain": [
       "                        count          mean           std           min  \\\n",
       "gdp                      22.0  3.055703e+07  6.183100e+07  3.807057e+06   \n",
       "illiteracy               22.0  3.225541e+00  1.851496e+00  7.914850e-01   \n",
       "poverty                  22.0  9.925625e+00  3.779530e+00  3.398774e+00   \n",
       "deficient_infra          22.0  1.267730e+01  7.216860e+00  3.839852e+00   \n",
       "school_dropout           22.0  1.724866e+00  1.152438e+00  2.040934e-01   \n",
       "no_healthcare            22.0  5.076884e+01  9.181037e+00  2.923210e+01   \n",
       "birth_mortal             22.0  4.986364e+00  3.498339e+00  8.000000e-01   \n",
       "pop                      22.0  1.686352e+06  3.219828e+06  2.739640e+05   \n",
       "movie_theatres_per_cap   22.0  7.143952e-06  4.373885e-06  1.815553e-06   \n",
       "doctors_per_cap          22.0  4.893720e-03  1.522047e-03  2.821491e-03   \n",
       "\n",
       "                                 25%           50%           75%           max  \n",
       "gdp                     8.041587e+06  1.096416e+07  1.999452e+07  2.926899e+08  \n",
       "illiteracy              1.989810e+00  2.743675e+00  3.686190e+00  7.517580e+00  \n",
       "poverty                 7.472754e+00  9.142440e+00  1.250014e+01  1.703558e+01  \n",
       "deficient_infra         7.569677e+00  1.086588e+01  1.610065e+01  3.147953e+01  \n",
       "school_dropout          8.126169e-01  1.437767e+00  2.514496e+00  3.864265e+00  \n",
       "no_healthcare           4.554830e+01  4.937050e+01  5.691580e+01  6.581260e+01  \n",
       "birth_mortal            3.025000e+00  4.000000e+00  5.875000e+00  1.620000e+01  \n",
       "pop                     5.143715e+05  7.775305e+05  1.230606e+06  1.562508e+07  \n",
       "movie_theatres_per_cap  4.051661e-06  5.768349e-06  9.313676e-06  1.881167e-05  \n",
       "doctors_per_cap         4.061011e-03  4.757224e-03  5.334040e-03  1.017536e-02  "
      ]
     },
     "execution_count": 9,
     "metadata": {},
     "output_type": "execute_result"
    }
   ],
   "source": [
    "df_Arg.describe().T"
   ]
  },
  {
   "cell_type": "code",
   "execution_count": 10,
   "id": "fea16866",
   "metadata": {},
   "outputs": [
    {
     "data": {
      "text/plain": [
       "province                  0\n",
       "gdp                       0\n",
       "illiteracy                0\n",
       "poverty                   0\n",
       "deficient_infra           0\n",
       "school_dropout            0\n",
       "no_healthcare             0\n",
       "birth_mortal              0\n",
       "pop                       0\n",
       "movie_theatres_per_cap    0\n",
       "doctors_per_cap           0\n",
       "dtype: int64"
      ]
     },
     "execution_count": 10,
     "metadata": {},
     "output_type": "execute_result"
    }
   ],
   "source": [
    "df_Arg.isnull().sum()"
   ]
  },
  {
   "cell_type": "markdown",
   "id": "aeafb723",
   "metadata": {},
   "source": [
    "So we will drop province column in the dataset as we not need"
   ]
  },
  {
   "cell_type": "code",
   "execution_count": 12,
   "id": "994d0b83",
   "metadata": {},
   "outputs": [],
   "source": [
    "df_Arg= df_Arg.drop(['province'],axis= 1)"
   ]
  },
  {
   "cell_type": "code",
   "execution_count": 13,
   "id": "3b012d33",
   "metadata": {
    "scrolled": true
   },
   "outputs": [
    {
     "data": {
      "text/plain": [
       "Index(['gdp', 'illiteracy', 'poverty', 'deficient_infra', 'school_dropout',\n",
       "       'no_healthcare', 'birth_mortal', 'pop', 'movie_theatres_per_cap',\n",
       "       'doctors_per_cap'],\n",
       "      dtype='object')"
      ]
     },
     "execution_count": 13,
     "metadata": {},
     "output_type": "execute_result"
    }
   ],
   "source": [
    "df_Arg.columns"
   ]
  },
  {
   "cell_type": "markdown",
   "id": "c486a146",
   "metadata": {},
   "source": [
    "# Detection of outliers"
   ]
  },
  {
   "cell_type": "code",
   "execution_count": 65,
   "id": "30a0a761",
   "metadata": {},
   "outputs": [
    {
     "name": "stdout",
     "output_type": "stream",
     "text": [
      "gdp yes\n",
      "illiteracy yes\n",
      "poverty no\n",
      "deficient_infra yes\n",
      "school_dropout no\n",
      "no_healthcare no\n",
      "birth_mortal yes\n",
      "pop yes\n",
      "movie_theatres_per_cap yes\n",
      "doctors_per_cap yes\n",
      "cluster no\n"
     ]
    }
   ],
   "source": [
    "for i in df_Arg:\n",
    "    Q1 = df_Arg[i].quantile(0.25)\n",
    "    Q3 = df_Arg[i].quantile(0.75)\n",
    "    IQR = Q3-Q1\n",
    "    up = Q3 + 1.5*IQR\n",
    "    low = Q1 - 1.5*IQR\n",
    "\n",
    "    if df_Arg[(df_Arg[i] > up) | (df_Arg[i] < low)].any(axis=None):\n",
    "        print(i,\"yes\")\n",
    "    else:\n",
    "        print(i, \"no\")"
   ]
  },
  {
   "cell_type": "code",
   "execution_count": 67,
   "id": "2f2589b5",
   "metadata": {},
   "outputs": [],
   "source": [
    "#There are outliers lets fix them:\n",
    "for i in df_Arg:\n",
    "    Q1 = df_Arg[i].quantile(0.25)\n",
    "    Q3 = df_Arg[i].quantile(0.75)\n",
    "    IQR = Q3 - Q1\n",
    "    up_lim = Q3 + 1.5 * IQR\n",
    "    low_lim = Q1 - 1.5 * IQR\n",
    "    df_Arg.loc[df_Arg[i] > up_lim,i] = up_lim\n",
    "    df_Arg.loc[df_Arg[i] < low_lim,i] = low_lim"
   ]
  },
  {
   "cell_type": "code",
   "execution_count": 68,
   "id": "3411e0e8",
   "metadata": {},
   "outputs": [
    {
     "name": "stdout",
     "output_type": "stream",
     "text": [
      "gdp no\n",
      "illiteracy no\n",
      "poverty no\n",
      "deficient_infra no\n",
      "school_dropout no\n",
      "no_healthcare no\n",
      "birth_mortal no\n",
      "pop no\n",
      "movie_theatres_per_cap no\n",
      "doctors_per_cap no\n",
      "cluster no\n"
     ]
    }
   ],
   "source": [
    "#Outlier Query\n",
    "for i in df_Arg:\n",
    "    Q1 = df_Arg[i].quantile(0.25)\n",
    "    Q3 = df_Arg[i].quantile(0.75)\n",
    "    IQR = Q3-Q1\n",
    "    up = Q3 + 1.5*IQR\n",
    "    low = Q1 - 1.5*IQR\n",
    "\n",
    "    if df_Arg[(df_Arg[i] > up) | (df_Arg[i] < low)].any(axis=None):\n",
    "        print(i,\"yes\")\n",
    "    else:\n",
    "        print(i, \"no\")"
   ]
  },
  {
   "cell_type": "markdown",
   "id": "7a4284ac",
   "metadata": {},
   "source": [
    "# Normalize the data using StandardScaler"
   ]
  },
  {
   "cell_type": "code",
   "execution_count": 69,
   "id": "731ebda3",
   "metadata": {},
   "outputs": [],
   "source": [
    "scaler = StandardScaler()"
   ]
  },
  {
   "cell_type": "code",
   "execution_count": 70,
   "id": "a2ef9760",
   "metadata": {},
   "outputs": [],
   "source": [
    "df_scaler = scaler.fit_transform(df_Arg)"
   ]
  },
  {
   "cell_type": "code",
   "execution_count": 71,
   "id": "5d37d298",
   "metadata": {
    "scrolled": false
   },
   "outputs": [
    {
     "data": {
      "text/plain": [
       "array([[ 2.02696763, -1.08004107, -0.47603618, -1.04383266, -0.85146308,\n",
       "        -0.2200833 , -0.10053601,  2.03204903, -0.25839794,  0.06929538,\n",
       "         0.61905859],\n",
       "       [-0.85317018, -0.48807126, -0.18727272, -0.31033841, -0.68645025,\n",
       "        -0.63804547, -1.24592838, -0.97248496, -0.40011914, -0.23817925,\n",
       "        -0.23214697],\n",
       "       [ 2.02696763, -0.26012993, -1.23035361, -0.31454421, -0.61265183,\n",
       "        -0.55795584,  0.05744915,  2.03204903,  1.00687584,  2.28922773,\n",
       "        -1.08335253],\n",
       "       [-0.68845804,  1.5192171 ,  0.76410684,  0.72258044,  1.90009768,\n",
       "         1.26438418,  0.49190832, -0.00345627, -0.74483937, -0.2444636 ,\n",
       "         1.47026414],\n",
       "       [-0.51943417,  1.90631077,  1.60779443,  2.41956932,  0.75722931,\n",
       "         1.64343867,  1.12384894,  0.0937371 , -1.03554356, -1.06541436,\n",
       "         1.47026414],\n",
       "       [ 0.19805931, -0.97850245, -0.50746239, -0.66872553, -1.01120387,\n",
       "        -1.25101429, -0.65348405, -0.75335627,  2.11678143, -0.24190467,\n",
       "        -1.08335253],\n",
       "       [ 0.46959863,  0.0303043 , -0.71409032,  0.92336384,  0.1441656 ,\n",
       "        -0.23542341, -0.61398776,  0.37406145, -0.3447345 , -0.07525766,\n",
       "        -0.23214697],\n",
       "       [-1.06563792,  0.90822343,  1.92544419,  2.28744504,  0.48324711,\n",
       "         1.67712893,  2.17050059, -0.72070101, -0.80788393, -1.21692575,\n",
       "         1.47026414],\n",
       "       [-0.82289493, -0.60681638,  0.93221846, -0.01136569, -0.89131748,\n",
       "         0.37822545, -0.37701003, -0.49867966, -1.00431404, -0.73972678,\n",
       "        -0.23214697],\n",
       "       [-0.7770886 , -0.98389911, -1.76753307,  0.58437995, -1.35066733,\n",
       "        -0.59001845,  1.00536007, -1.04829436,  2.48243185,  0.60308607,\n",
       "        -1.08335253],\n",
       "       [-0.90397204, -0.2237394 ,  0.25714099, -0.76371274,  1.88294246,\n",
       "        -1.10755753,  2.17050059, -1.02550827,  1.20449008,  0.30591612,\n",
       "        -1.08335253],\n",
       "       [ 1.61972944, -0.5767466 , -1.14628943, -1.29145983, -0.58719574,\n",
       "        -0.02057273, -0.10053601,  1.15412576,  0.24000492,  0.88478857,\n",
       "        -1.08335253],\n",
       "       [-0.53627799,  1.90631077,  0.97604151, -0.62709071,  1.24718573,\n",
       "         0.78763685,  1.36082667,  0.16560225, -1.28716209, -1.73327462,\n",
       "         1.47026414],\n",
       "       [ 0.63464011, -0.73473459, -0.12700691, -0.19144303, -0.29429784,\n",
       "        -0.22583584, -0.53499518, -0.68796819,  0.48960229,  0.28216307,\n",
       "        -0.23214697],\n",
       "       [-0.48027977, -0.68072482, -0.33776273,  0.3444147 , -1.16953123,\n",
       "        -0.0916991 , -1.5224024 , -0.55244126,  0.56916669,  0.1266824 ,\n",
       "        -0.23214697],\n",
       "       [-0.19254216,  0.12918771,  1.8807381 ,  0.24027803, -0.21567375,\n",
       "         1.07627835,  0.45241203,  0.34063222, -0.72346289, -0.70924732,\n",
       "         1.47026414],\n",
       "       [-0.66178091, -0.10665764, -0.23691514, -1.28042056,  1.39753852,\n",
       "         0.24521469, -0.17952858, -0.48666233, -0.29335455,  0.26107513,\n",
       "        -0.23214697],\n",
       "       [-0.34283427,  0.18312972, -0.90229752, -0.42653779,  0.24451213,\n",
       "         0.09437774, -0.33751374, -0.87247182, -0.59875243,  1.23688139,\n",
       "        -0.23214697],\n",
       "       [-0.35345011, -1.44459627, -0.51477164, -0.76251169, -1.27502498,\n",
       "        -2.40098718, -0.53499518, -1.11807028,  0.9501277 , -0.45157477,\n",
       "        -1.08335253],\n",
       "       [ 2.02696763, -0.71490369, -1.0411574 , -0.10229789,  1.01898233,\n",
       "        -0.98136955, -0.8114692 ,  2.03204903, -0.1217928 ,  1.76200321,\n",
       "        -1.08335253],\n",
       "       [-0.65040011,  1.90631077,  0.49649549,  1.17467293,  0.53353745,\n",
       "         1.43756239, -1.1669358 , -0.18739067, -0.89114708, -1.78755987,\n",
       "         1.47026414],\n",
       "       [-0.15470919,  0.39056866,  0.34896906, -0.90242346, -0.66396093,\n",
       "        -0.28368455, -0.65348405,  0.70317946, -0.54797649,  0.68240959,\n",
       "        -0.23214697]])"
      ]
     },
     "execution_count": 71,
     "metadata": {},
     "output_type": "execute_result"
    }
   ],
   "source": [
    "df_scaler"
   ]
  },
  {
   "cell_type": "markdown",
   "id": "0e18d221",
   "metadata": {},
   "source": [
    "# PCA"
   ]
  },
  {
   "cell_type": "code",
   "execution_count": 119,
   "id": "4ac082f8",
   "metadata": {},
   "outputs": [
    {
     "data": {
      "text/plain": [
       "array([[ 2.23984591e+07, -2.00392409e+05, -1.49728645e+00,\n",
       "         2.86597404e+00,  1.15124415e+00, -4.05498869e-01,\n",
       "         1.44492835e+00, -3.24037704e-01, -2.27581113e-02,\n",
       "        -1.13452567e-03, -1.00629257e-06],\n",
       "       [-9.43147088e+06,  1.59801749e+05, -6.85861945e+00,\n",
       "        -1.02878015e+00, -2.56306425e+00, -1.62627564e+00,\n",
       "        -1.91997078e-01, -6.98225916e-01, -6.12524020e-01,\n",
       "         4.66371903e-05, -2.05542223e-06],\n",
       "       [ 2.23984591e+07, -2.00392409e+05, -1.06241333e+00,\n",
       "        -3.09230388e+00,  2.89107364e-01,  1.71748798e+00,\n",
       "         2.15606133e-01,  3.59436568e-01, -5.48515051e-01,\n",
       "         1.09848264e-03,  1.57157083e-06],\n",
       "       [-7.58567842e+06, -3.74150430e+05,  3.70475843e+00,\n",
       "         1.25288799e+00, -5.43428294e-01,  1.15619121e+00,\n",
       "        -1.30458522e+00, -1.84976994e-01,  4.83198409e-01,\n",
       "         2.12182264e-04,  1.66573923e-06],\n",
       "       [-5.72023435e+06, -3.44333055e+05,  1.51699597e+01,\n",
       "        -5.12337410e+00,  1.66988924e+00, -4.30538190e-01,\n",
       "        -4.90616784e-01,  5.48715398e-01, -1.40014477e-01,\n",
       "         2.53404689e-04, -3.08673095e-07],\n",
       "       [ 2.15818668e+06,  5.93396487e+05, -1.61058583e+00,\n",
       "         4.54736241e-02,  5.97476723e-01, -1.84726558e+00,\n",
       "        -8.07623846e-02,  9.73831254e-01,  2.38712425e-01,\n",
       "        -2.63091580e-04,  4.73302112e-06],\n",
       "       [ 5.18608288e+06,  1.58525838e+04,  3.83712198e+00,\n",
       "        -6.38992233e+00, -2.11011384e+00,  3.87913092e-01,\n",
       "        -6.72251888e-01,  4.68408065e-01,  7.56157974e-01,\n",
       "        -6.68336688e-04, -2.45563267e-06],\n",
       "       [-1.17644380e+07, -1.18487690e+05,  1.65217913e+01,\n",
       "        -2.79711008e+00,  4.15713249e+00,  3.17744206e-01,\n",
       "         1.08519608e+00, -3.79076032e-01, -1.98902538e-02,\n",
       "         1.11935969e-04, -1.55838459e-06],\n",
       "       [-9.08275362e+06, -1.28750608e+05, -2.40574425e+00,\n",
       "         1.58493112e+00, -6.56701895e-01, -2.40095252e+00,\n",
       "         1.71521250e+00, -6.58566246e-01,  1.39785637e-01,\n",
       "        -1.15178815e-04, -2.09898390e-06],\n",
       "       [-8.59561099e+06,  2.50212061e+05, -1.74706415e+00,\n",
       "        -5.78205792e+00, -1.85709505e+00,  5.77326886e+00,\n",
       "         2.35162527e+00,  3.86380574e-01,  2.06761568e-01,\n",
       "        -3.16316207e-04,  1.53846897e-06],\n",
       "       [-9.99290996e+06,  1.66172663e+05, -1.11291878e+01,\n",
       "        -7.06985815e-01,  6.49433194e+00,  2.33086716e+00,\n",
       "        -1.33124034e+00, -1.18222313e+00, -3.72388463e-01,\n",
       "         1.74560168e-04,  1.70225680e-06],\n",
       "       [ 1.78833772e+07,  1.42305462e+05,  2.39118675e+00,\n",
       "         7.13245484e+00, -2.74723428e-01,  1.94784042e+00,\n",
       "         5.92707367e-01, -2.92484253e-01, -7.61199579e-01,\n",
       "        -1.80615113e-04, -4.50468961e-07],\n",
       "       [-5.90352673e+06, -3.99818544e+05, -4.70146044e+00,\n",
       "         5.73914264e+00,  2.60326772e+00,  1.26400594e+00,\n",
       "        -9.15633933e-01,  1.39671269e+00, -2.68527757e-01,\n",
       "        -9.15260869e-04, -1.47149993e-06],\n",
       "       [ 6.97061022e+06,  7.89966513e+05,  1.25765022e+01,\n",
       "         4.58937830e+00,  1.03591430e+00, -1.95814724e+00,\n",
       "        -5.27153601e-01,  3.05968908e-01,  3.40002873e-01,\n",
       "         4.07838185e-04,  1.23229576e-07],\n",
       "       [-5.30946922e+06,  9.31745506e+04, -1.60959909e-01,\n",
       "        -2.04692987e+00, -4.22394928e+00, -1.42722294e+00,\n",
       "         7.16830816e-01, -8.19916996e-01, -2.91690424e-01,\n",
       "         1.92096642e-04,  2.19744138e-06],\n",
       "       [-2.11058445e+06, -3.24609478e+05,  3.59026691e+00,\n",
       "         3.39659343e+00,  2.40225191e+00, -3.25500851e+00,\n",
       "         1.40217867e+00, -1.82409544e-01,  3.08436552e-01,\n",
       "         3.10749684e-04,  1.76900031e-06],\n",
       "       [-7.30718323e+06, -4.84089737e+04, -7.24840683e+00,\n",
       "         7.71050203e+00, -1.67951065e+00,  1.51751842e+00,\n",
       "        -4.16168934e-01, -4.94156312e-01,  1.13978595e+00,\n",
       "        -1.59955114e-04,  7.48856707e-07],\n",
       "       [-3.80529249e+06,  3.74396701e+05,  2.93580546e+00,\n",
       "         4.68309690e+00, -2.38418982e+00,  2.23554373e+00,\n",
       "        -6.57572246e-01,  2.26630002e-01, -7.35924410e-02,\n",
       "         1.14238382e-03, -4.18769971e-06],\n",
       "       [-3.93010698e+06,  5.26744528e+05, -1.31519650e+01,\n",
       "        -6.17784230e+00,  1.88928303e+00, -2.48837794e+00,\n",
       "        -2.09686754e-01,  5.10328669e-01, -2.65669552e-01,\n",
       "        -4.74133869e-04, -2.14590985e-06],\n",
       "       [ 2.23984591e+07, -2.00392408e+05, -3.10631476e+00,\n",
       "        -6.36219949e+00, -1.23267790e-01, -3.45372848e-01,\n",
       "        -1.58797410e+00, -9.82486085e-01,  6.25283060e-01,\n",
       "         5.16104028e-05, -6.51646881e-07],\n",
       "       [-7.17222537e+06, -2.34901083e+05,  8.77013203e+00,\n",
       "         5.08866538e-01, -4.58803731e+00, -6.63588585e-01,\n",
       "        -1.62665036e+00, -8.75016773e-02, -8.83052320e-01,\n",
       "        -8.80530489e-04,  2.23539746e-06],\n",
       "       [-1.68214960e+06, -5.37386212e+05, -1.48175166e+01,\n",
       "        -1.79550602e-03, -1.28581728e+00, -1.80013214e+00,\n",
       "         4.88008427e-01,  1.10964876e+00,  2.16980043e-02,\n",
       "         1.10606275e-03,  1.05631985e-07]])"
      ]
     },
     "execution_count": 119,
     "metadata": {},
     "output_type": "execute_result"
    }
   ],
   "source": [
    "pca = PCA()\n",
    "df_pca = pca.fit_transform(df_Arg)\n",
    "df_pca"
   ]
  },
  {
   "cell_type": "code",
   "execution_count": 120,
   "id": "89aeff58",
   "metadata": {},
   "outputs": [
    {
     "data": {
      "text/plain": [
       "array([[ 2.23984591e+07, -2.00392409e+05, -1.49728645e+00],\n",
       "       [-9.43147088e+06,  1.59801749e+05, -6.85861945e+00],\n",
       "       [ 2.23984591e+07, -2.00392409e+05, -1.06241333e+00],\n",
       "       [-7.58567842e+06, -3.74150430e+05,  3.70475843e+00],\n",
       "       [-5.72023435e+06, -3.44333055e+05,  1.51699597e+01],\n",
       "       [ 2.15818668e+06,  5.93396487e+05, -1.61058583e+00],\n",
       "       [ 5.18608288e+06,  1.58525838e+04,  3.83712198e+00],\n",
       "       [-1.17644380e+07, -1.18487690e+05,  1.65217913e+01],\n",
       "       [-9.08275362e+06, -1.28750608e+05, -2.40574425e+00],\n",
       "       [-8.59561099e+06,  2.50212061e+05, -1.74706415e+00],\n",
       "       [-9.99290996e+06,  1.66172663e+05, -1.11291878e+01],\n",
       "       [ 1.78833772e+07,  1.42305462e+05,  2.39118675e+00],\n",
       "       [-5.90352673e+06, -3.99818544e+05, -4.70146044e+00],\n",
       "       [ 6.97061022e+06,  7.89966513e+05,  1.25765022e+01],\n",
       "       [-5.30946922e+06,  9.31745506e+04, -1.60959909e-01],\n",
       "       [-2.11058445e+06, -3.24609478e+05,  3.59026691e+00],\n",
       "       [-7.30718323e+06, -4.84089737e+04, -7.24840683e+00],\n",
       "       [-3.80529249e+06,  3.74396701e+05,  2.93580546e+00],\n",
       "       [-3.93010698e+06,  5.26744528e+05, -1.31519650e+01],\n",
       "       [ 2.23984591e+07, -2.00392408e+05, -3.10631476e+00],\n",
       "       [-7.17222537e+06, -2.34901083e+05,  8.77013203e+00],\n",
       "       [-1.68214960e+06, -5.37386212e+05, -1.48175166e+01]])"
      ]
     },
     "execution_count": 120,
     "metadata": {},
     "output_type": "execute_result"
    }
   ],
   "source": [
    "#Perform PCA to reduce the number of features\n",
    "# Considering first 3 PC's\n",
    "pca = PCA(n_components = 3)\n",
    "df_pca = pca.fit_transform(df_Arg)\n",
    "df_pca"
   ]
  },
  {
   "cell_type": "code",
   "execution_count": 121,
   "id": "6b8811f2",
   "metadata": {
    "scrolled": false
   },
   "outputs": [
    {
     "data": {
      "text/plain": [
       "array([[ 2.23984591e+07, -2.00392409e+05, -1.49728645e+00],\n",
       "       [-9.43147088e+06,  1.59801749e+05, -6.85861945e+00],\n",
       "       [ 2.23984591e+07, -2.00392409e+05, -1.06241333e+00],\n",
       "       [-7.58567842e+06, -3.74150430e+05,  3.70475843e+00],\n",
       "       [-5.72023435e+06, -3.44333055e+05,  1.51699597e+01],\n",
       "       [ 2.15818668e+06,  5.93396487e+05, -1.61058583e+00],\n",
       "       [ 5.18608288e+06,  1.58525838e+04,  3.83712198e+00],\n",
       "       [-1.17644380e+07, -1.18487690e+05,  1.65217913e+01],\n",
       "       [-9.08275362e+06, -1.28750608e+05, -2.40574425e+00],\n",
       "       [-8.59561099e+06,  2.50212061e+05, -1.74706415e+00],\n",
       "       [-9.99290996e+06,  1.66172663e+05, -1.11291878e+01],\n",
       "       [ 1.78833772e+07,  1.42305462e+05,  2.39118675e+00],\n",
       "       [-5.90352673e+06, -3.99818544e+05, -4.70146044e+00],\n",
       "       [ 6.97061022e+06,  7.89966513e+05,  1.25765022e+01],\n",
       "       [-5.30946922e+06,  9.31745506e+04, -1.60959909e-01],\n",
       "       [-2.11058445e+06, -3.24609478e+05,  3.59026691e+00],\n",
       "       [-7.30718323e+06, -4.84089737e+04, -7.24840683e+00],\n",
       "       [-3.80529249e+06,  3.74396701e+05,  2.93580546e+00],\n",
       "       [-3.93010698e+06,  5.26744528e+05, -1.31519650e+01],\n",
       "       [ 2.23984591e+07, -2.00392408e+05, -3.10631476e+00],\n",
       "       [-7.17222537e+06, -2.34901083e+05,  8.77013203e+00],\n",
       "       [-1.68214960e+06, -5.37386212e+05, -1.48175166e+01]])"
      ]
     },
     "execution_count": 121,
     "metadata": {},
     "output_type": "execute_result"
    }
   ],
   "source": [
    "df_pca"
   ]
  },
  {
   "cell_type": "code",
   "execution_count": 122,
   "id": "2d0528a6",
   "metadata": {},
   "outputs": [
    {
     "data": {
      "image/png": "[encoded data removed]",
      "text/plain": [
       "<Figure size 800x550 with 1 Axes>"
      ]
     },
     "metadata": {},
     "output_type": "display_data"
    }
   ],
   "source": [
    "plt.scatter(df_pca[:, 0], df_pca[:, 1],c=kmeans.labels_,  cmap='viridis')\n",
    "plt.xlabel(\"First Principal Component\")\n",
    "plt.ylabel(\"Second Principal Component\")\n",
    "plt.show()"
   ]
  },
  {
   "cell_type": "code",
   "execution_count": 123,
   "id": "0986ba6e",
   "metadata": {},
   "outputs": [
    {
     "data": {
      "text/plain": [
       "array([9.99047133e-01, 9.52867196e-04, 5.42114987e-13])"
      ]
     },
     "execution_count": 123,
     "metadata": {},
     "output_type": "execute_result"
    }
   ],
   "source": [
    "# The amount of variance that each PCA explains is \n",
    "var = pca.explained_variance_ratio_\n",
    "var"
   ]
  },
  {
   "cell_type": "code",
   "execution_count": 124,
   "id": "344aff31",
   "metadata": {},
   "outputs": [
    {
     "data": {
      "text/plain": [
       "array([ 99.9, 100. , 100. ])"
      ]
     },
     "execution_count": 124,
     "metadata": {},
     "output_type": "execute_result"
    }
   ],
   "source": [
    "# Cumulative variance \n",
    "var1 = np.cumsum(np.round(var,decimals = 4)*100)\n",
    "var1"
   ]
  },
  {
   "cell_type": "markdown",
   "id": "66532f39",
   "metadata": {},
   "source": [
    " The cumulative variance array shows the percentage of the total variance in the data that is explained by each principal component and all previous components. In this case, the first principal component explains 99.9% of the total variance in the data, the second principal component explains an additional 0.1% of the variance, and the third principal component explains 100% of the variance in the data."
   ]
  },
  {
   "cell_type": "code",
   "execution_count": 125,
   "id": "242a73ab",
   "metadata": {},
   "outputs": [
    {
     "data": {
      "text/plain": [
       "array([[ 9.98771326e-01, -5.57661945e-08, -1.71074723e-07,\n",
       "        -2.16249585e-07, -2.12115943e-08, -2.48161623e-07,\n",
       "        -6.30629390e-08,  4.95564247e-02,  5.96728986e-14,\n",
       "         6.06412540e-11,  7.65138264e-08],\n",
       "       [ 4.95564247e-02, -2.95419282e-06, -5.15878079e-06,\n",
       "        -5.04673094e-06, -1.24358295e-06, -1.53971532e-05,\n",
       "        -1.61879170e-06, -9.98771325e-01,  7.59269910e-12,\n",
       "         6.10405156e-10, -1.64494839e-06],\n",
       "       [ 1.15456156e-06,  8.53824938e-02,  1.63620902e-01,\n",
       "         6.19545835e-01,  2.01227299e-02,  7.60042033e-01,\n",
       "         6.06308617e-02, -1.60421930e-05, -1.43435174e-07,\n",
       "        -3.94667961e-05,  1.88698073e-02]])"
      ]
     },
     "execution_count": 125,
     "metadata": {},
     "output_type": "execute_result"
    }
   ],
   "source": [
    "pca.components_"
   ]
  },
  {
   "cell_type": "markdown",
   "id": "fc7b4068",
   "metadata": {},
   "source": [
    "So, the first row represents the principal component that explains the most variance in the data, while the last row represents the principal component that explains the least variance in the data."
   ]
  },
  {
   "cell_type": "code",
   "execution_count": 126,
   "id": "9e37a266",
   "metadata": {},
   "outputs": [
    {
     "data": {
      "image/png": "[encoded data removed]",
      "text/plain": [
       "<Figure size 800x550 with 1 Axes>"
      ]
     },
     "metadata": {},
     "output_type": "display_data"
    }
   ],
   "source": [
    "# Plot the variance for the PCA components\n",
    "plt.plot(pca.explained_variance_ratio_, color='red')\n",
    "plt.show()"
   ]
  },
  {
   "cell_type": "markdown",
   "id": "4eec5ad0",
   "metadata": {},
   "source": [
    "# K Means"
   ]
  },
  {
   "cell_type": "code",
   "execution_count": 127,
   "id": "dbd2fe64",
   "metadata": {},
   "outputs": [],
   "source": [
    "score=[]\n",
    "K=range(1,20)\n",
    "\n",
    "for i in K:\n",
    "    kmeans=KMeans(n_clusters=i,init=\"k-means++\",random_state=0)\n",
    "    kmeans.fit(df_pca)\n",
    "    score.append(kmeans.inertia_)"
   ]
  },
  {
   "cell_type": "code",
   "execution_count": 128,
   "id": "f3b8f4e2",
   "metadata": {
    "scrolled": false
   },
   "outputs": [
    {
     "data": {
      "image/png": "[encoded data removed]",
      "text/plain": [
       "<Figure size 800x550 with 2 Axes>"
      ]
     },
     "metadata": {},
     "output_type": "display_data"
    }
   ],
   "source": [
    "kmeans=KMeans()\n",
    "visu=KElbowVisualizer(kmeans,k=(1,20))   \n",
    "visu.fit(df_pca)\n",
    "visu.poof();"
   ]
  },
  {
   "cell_type": "code",
   "execution_count": 129,
   "id": "efd19bcc",
   "metadata": {},
   "outputs": [
    {
     "data": {
      "text/plain": [
       "KMeans(n_clusters=3, random_state=42)"
      ]
     },
     "execution_count": 129,
     "metadata": {},
     "output_type": "execute_result"
    }
   ],
   "source": [
    "#Build Cluster algorithm\n",
    "from sklearn.cluster import KMeans\n",
    "clusters_new = KMeans(3, random_state=42)\n",
    "clusters_new.fit(df_pca)"
   ]
  },
  {
   "cell_type": "code",
   "execution_count": 130,
   "id": "3cff9523",
   "metadata": {},
   "outputs": [],
   "source": [
    "y_pred_k=clusters_new.fit_predict(df_pca)"
   ]
  },
  {
   "cell_type": "code",
   "execution_count": 131,
   "id": "62c29596",
   "metadata": {
    "scrolled": true
   },
   "outputs": [
    {
     "data": {
      "text/plain": [
       "0    2\n",
       "1    1\n",
       "2    2\n",
       "3    1\n",
       "4    1\n",
       "Name: cluster, dtype: int32"
      ]
     },
     "execution_count": 131,
     "metadata": {},
     "output_type": "execute_result"
    }
   ],
   "source": [
    "df_Arg[\"cluster\"]=y_pred_k\n",
    "df_Arg[\"cluster\"].head()"
   ]
  },
  {
   "cell_type": "code",
   "execution_count": 132,
   "id": "ae3067e3",
   "metadata": {},
   "outputs": [
    {
     "data": {
      "text/plain": [
       "array([2, 1, 2, 1, 1, 0, 0, 1, 1, 1, 1, 2, 1, 0, 1, 1, 1, 1, 1, 2, 1, 1])"
      ]
     },
     "execution_count": 132,
     "metadata": {},
     "output_type": "execute_result"
    }
   ],
   "source": [
    "clusters_new.labels_"
   ]
  },
  {
   "cell_type": "code",
   "execution_count": 133,
   "id": "f15d85be",
   "metadata": {},
   "outputs": [
    {
     "name": "stdout",
     "output_type": "stream",
     "text": [
      "Cluster Centers: \n",
      " [[-7.58567842e+06 -3.74150430e+05  3.70475843e+00]\n",
      " [ 1.78833772e+07  1.42305462e+05  2.39118675e+00]\n",
      " [ 2.15818668e+06  5.93396487e+05 -1.61058583e+00]\n",
      " [ 2.23984591e+07 -2.00392408e+05 -1.88867151e+00]\n",
      " [-3.80529249e+06  3.74396701e+05  2.93580546e+00]\n",
      " [ 5.18608288e+06  1.58525838e+04  3.83712198e+00]\n",
      " [-9.43147088e+06  1.59801749e+05 -6.85861945e+00]\n",
      " [-1.68214960e+06 -5.37386212e+05 -1.48175166e+01]\n",
      " [-5.81188054e+06 -3.72075800e+05  5.23424963e+00]\n",
      " [-1.17644380e+07 -1.18487690e+05  1.65217913e+01]\n",
      " [ 6.97061022e+06  7.89966513e+05  1.25765022e+01]\n",
      " [-8.59561099e+06  2.50212061e+05 -1.74706415e+00]\n",
      " [-5.30946922e+06  9.31745506e+04 -1.60959909e-01]\n",
      " [-7.17222537e+06 -2.34901083e+05  8.77013203e+00]\n",
      " [-9.99290996e+06  1.66172663e+05 -1.11291878e+01]\n",
      " [-9.08275362e+06 -1.28750608e+05 -2.40574425e+00]\n",
      " [-2.11058445e+06 -3.24609478e+05  3.59026691e+00]\n",
      " [-7.30718323e+06 -4.84089737e+04 -7.24840683e+00]\n",
      " [-3.93010698e+06  5.26744528e+05 -1.31519650e+01]]\n",
      "Cluster Labels: \n",
      " [ 3  6  3  0  8  2  5  9 15 11 14  1  8 10 12 16 17  4 18  3 13  7]\n"
     ]
    }
   ],
   "source": [
    "# Interpret the results\n",
    "print(\"Cluster Centers: \\n\", kmeans.cluster_centers_)\n",
    "print(\"Cluster Labels: \\n\", kmeans.labels_)"
   ]
  },
  {
   "cell_type": "code",
   "execution_count": 134,
   "id": "3a943250",
   "metadata": {},
   "outputs": [],
   "source": [
    "# Evaluate the clustering results\n",
    "from sklearn.metrics import silhouette_score, calinski_harabasz_score\n",
    "silhouette_score = silhouette_score(df_pca, y_pred_k)\n",
    "calinski_harabasz_index = calinski_harabasz_score(df_pca, y_pred_k)"
   ]
  },
  {
   "cell_type": "code",
   "execution_count": 135,
   "id": "ae57000f",
   "metadata": {
    "scrolled": true
   },
   "outputs": [
    {
     "name": "stdout",
     "output_type": "stream",
     "text": [
      "Silhouette Score:  0.7003070946243379\n",
      "Calinski-Harabasz Index:  161.4888735016088\n"
     ]
    }
   ],
   "source": [
    "# Print the evaluation metrics\n",
    "print(\"Silhouette Score: \", silhouette_score)\n",
    "print(\"Calinski-Harabasz Index: \", calinski_harabasz_index)"
   ]
  },
  {
   "cell_type": "markdown",
   "id": "23a6d915",
   "metadata": {},
   "source": [
    "* **The Silhouette Score is a measure of how similar an object is to its own cluster compared to other clusters.So the Silhouette Score is 0.700, which suggests that the objects in the data set are relatively well-matched to the cluster** \n",
    "* **The Calinski-Harabasz Index is another method for evaluating the quality of a clustering algorithm.the index value is 161.489, which suggests that the clusters are well-defined and well-separated.**"
   ]
  },
  {
   "cell_type": "code",
   "execution_count": 137,
   "id": "5385c70d",
   "metadata": {},
   "outputs": [
    {
     "data": {
      "image/png": "[encoded data removed]",
      "text/plain": [
       "<Figure size 800x550 with 1 Axes>"
      ]
     },
     "metadata": {},
     "output_type": "display_data"
    }
   ],
   "source": [
    "# Plot the results\n",
    "plt.scatter(df_pca[:, 0], df_pca[:, 1], c=y_pred_k, cmap='viridis')\n",
    "plt.show()"
   ]
  },
  {
   "cell_type": "code",
   "execution_count": null,
   "id": "1f13aa81",
   "metadata": {},
   "outputs": [],
   "source": []
  }
 ],
 "metadata": {
  "kernelspec": {
   "display_name": "Python 3 (ipykernel)",
   "language": "python",
   "name": "python3"
  },
  "language_info": {
   "codemirror_mode": {
    "name": "ipython",
    "version": 3
   },
   "file_extension": ".py",
   "mimetype": "text/x-python",
   "name": "python",
   "nbconvert_exporter": "python",
   "pygments_lexer": "ipython3",
   "version": "3.9.13"
  }
 },
 "nbformat": 4,
 "nbformat_minor": 5
}
